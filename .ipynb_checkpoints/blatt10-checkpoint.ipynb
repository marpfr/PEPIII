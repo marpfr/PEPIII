{
 "cells": [
  {
   "cell_type": "code",
   "execution_count": 61,
   "id": "7cc10cc7-58c6-4942-b95e-b9a0ba6780ff",
   "metadata": {},
   "outputs": [],
   "source": [
    "from IPython.display import display, Math\n",
    "import numpy as np\n",
    "import matplotlib.pyplot as plot"
   ]
  },
  {
   "cell_type": "code",
   "execution_count": 74,
   "id": "e582cc2b-3201-46bc-94f3-81d8d953118a",
   "metadata": {},
   "outputs": [],
   "source": [
    "def L(k,m,debug = False):\n",
    "    if debug:\n",
    "        print(f\"calling L({k},{m})\")\n",
    "        \n",
    "    if m == 0:\n",
    "        return (\"1\", \"1\", \"1\")\n",
    "    if m == 1:\n",
    "        return (f\"1 + {k} - x\", f\"{1 + k} - x\", f\"1 + {k} - x\")\n",
    "    \n",
    "    L1 = L(k,m-1)\n",
    "    L2 = L(k, m-2)\n",
    "    \n",
    "    su = f\"\\\\frac{{(2 \\\\cdot {m}) - 1 + {k} - x}}{{{m}}}\\\\qty(\" + L1[0] + f\")- \\\\frac{{{m} - 1 + {k}}}{{ {m} }}\\\\qty(\" + L2[0] + \")\"\n",
    "    sa = f\"\\\\frac{{{2 * m - 1 + k} - x}}{{{m}}}\\\\qty(\" + L1[1] + f\")- \\\\frac{{{m - 1 + k}}}{{{m}}}\\\\qty(\" + L2[1] + \")\"\n",
    "    se = f\"(((2 * {m}) - 1 + {k} - x) / ({m})) * ({L1[2]}) - (({m} - 1 + {k})/({m})) * ({L1[2]})\"\n",
    "    \n",
    "    return (su, sa, se)"
   ]
  },
  {
   "cell_type": "code",
   "execution_count": 118,
   "id": "bc8c4f86-63e6-4f17-a05d-6d10a163f29a",
   "metadata": {},
   "outputs": [
    {
     "name": "stdout",
     "output_type": "stream",
     "text": [
      "\\frac{(2 \\cdot 3) - 1 + 1 - x}{3}\\qty(\\frac{(2 \\cdot 2) - 1 + 1 - x}{2}\\qty(1 + 1 - x)- \\frac{2 - 1 + 1}{ 2 }\\qty(1))- \\frac{3 - 1 + 1}{ 3 }\\qty(1 + 1 - x)\n"
     ]
    },
    {
     "data": {
      "text/latex": [
       "$\\displaystyle \\frac{(2 \\cdot 3) - 1 + 1 - x}{3}\\qty(\\frac{(2 \\cdot 2) - 1 + 1 - x}{2}\\qty(1 + 1 - x)- \\frac{2 - 1 + 1}{ 2 }\\qty(1))- \\frac{3 - 1 + 1}{ 3 }\\qty(1 + 1 - x)$"
      ],
      "text/plain": [
       "<IPython.core.display.Math object>"
      ]
     },
     "metadata": {},
     "output_type": "display_data"
    },
    {
     "name": "stdout",
     "output_type": "stream",
     "text": [
      "\\frac{6 - x}{3}\\qty(\\frac{4 - x}{2}\\qty(2 - x)- \\frac{2}{2}\\qty(1))- \\frac{3}{3}\\qty(2 - x)\n"
     ]
    },
    {
     "data": {
      "text/latex": [
       "$\\displaystyle \\frac{6 - x}{3}\\qty(\\frac{4 - x}{2}\\qty(2 - x)- \\frac{2}{2}\\qty(1))- \\frac{3}{3}\\qty(2 - x)$"
      ],
      "text/plain": [
       "<IPython.core.display.Math object>"
      ]
     },
     "metadata": {},
     "output_type": "display_data"
    }
   ],
   "source": [
    "n = 4\n",
    "l = 0\n",
    "\n",
    "lag = L(2 * l + 1, n - l - 1)\n",
    "\n",
    "print(lag[0])\n",
    "display(Math(lag[0]))\n",
    "print(lag[1])\n",
    "display(Math(lag[1]))"
   ]
  },
  {
   "cell_type": "code",
   "execution_count": 119,
   "id": "660cb333-b608-4245-b980-6e54f0e436f2",
   "metadata": {},
   "outputs": [
    {
     "data": {
      "image/png": "[encoded data removed]",
      "text/plain": [
       "<Figure size 432x288 with 1 Axes>"
      ]
     },
     "metadata": {
      "needs_background": "light"
     },
     "output_type": "display_data"
    }
   ],
   "source": [
    "#ab hier funktioniert gar nix mehr :/\n",
    "\n",
    "Z = 1\n",
    "aB = 1\n",
    "start = 0\n",
    "stop = 30\n",
    "length = 100\n",
    "\n",
    "expr = f\"(x**{l}) * ({lag[2]})\"\n",
    "\n",
    "x = np.linspace(start, stop, length)\n",
    "\n",
    "rhos = np.array([((2 * Z * xi)/(n * aB)) for xi in x])\n",
    "\n",
    "plot.plot(x, rhos)\n",
    "\n",
    "rhosp = np.array([np.exp(- xi / 2) * (xi**l) * eval(expr, { \"x\": xi }) for xi in rhos])\n",
    "\n",
    "plot.plot(x, rhosp)\n",
    "\n",
    "y = np.sqrt(((2 * Z) / (n * aB))**3 * ( np.math.factorial(n - l - 1) / (2 * n * np.math.factorial(n + l)) )) * rhosp"
   ]
  },
  {
   "cell_type": "code",
   "execution_count": 120,
   "id": "7d05ca31-e3f9-4c34-8e4b-3077fa471b6a",
   "metadata": {},
   "outputs": [
    {
     "data": {
      "text/plain": [
       "[<matplotlib.lines.Line2D at 0x7f2853301b00>]"
      ]
     },
     "execution_count": 120,
     "metadata": {},
     "output_type": "execute_result"
    },
    {
     "data": {
      "image/png": "[encoded data removed]",
      "text/plain": [
       "<Figure size 432x288 with 1 Axes>"
      ]
     },
     "metadata": {
      "needs_background": "light"
     },
     "output_type": "display_data"
    }
   ],
   "source": [
    "#x1,x2,y1,y2 = plot.axis()  \n",
    "#plot.axis((x1,x2,-0.1,0.1))\n",
    "\n",
    "plot.plot(x, y / aB)"
   ]
  },
  {
   "cell_type": "code",
   "execution_count": null,
   "id": "4bb68b46-3999-42cb-8cd5-7693e337982a",
   "metadata": {},
   "outputs": [],
   "source": []
  }
 ],
 "metadata": {
  "kernelspec": {
   "display_name": "Python 3",
   "language": "python",
   "name": "python3"
  },
  "language_info": {
   "codemirror_mode": {
    "name": "ipython",
    "version": 3
   },
   "file_extension": ".py",
   "mimetype": "text/x-python",
   "name": "python",
   "nbconvert_exporter": "python",
   "pygments_lexer": "ipython3",
   "version": "3.7.3"
  }
 },
 "nbformat": 4,
 "nbformat_minor": 5
}
