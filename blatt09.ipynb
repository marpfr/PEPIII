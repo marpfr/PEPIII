{
 "cells": [
  {
   "cell_type": "code",
   "execution_count": 86,
   "id": "c8b89f0b-581a-44f8-855a-e5e6ca5d9f0c",
   "metadata": {},
   "outputs": [],
   "source": [
    "import scipy.constants as consts\n",
    "import numpy as np\n",
    "from IPython.display import display, Math"
   ]
  },
  {
   "cell_type": "markdown",
   "id": "01ccfe47-7b5b-4113-8999-6790e777eb5a",
   "metadata": {},
   "source": [
    "### Energiedifferenz zu Wellenlänge"
   ]
  },
  {
   "cell_type": "markdown",
   "id": "66a8c937-dc29-41a3-b070-a2a0a9fa417b",
   "metadata": {},
   "source": [
    "Masse Kern $m_k$ und Masse Schale $m_s$"
   ]
  },
  {
   "cell_type": "code",
   "execution_count": 173,
   "id": "cf3413f3-e46a-4877-aab2-3c6946082649",
   "metadata": {},
   "outputs": [
    {
     "name": "stdout",
     "output_type": "stream",
     "text": [
      "mk 1.67262192369e-27 ms 1.883531627e-28\n"
     ]
    }
   ],
   "source": [
    "mk = consts.proton_mass\n",
    "ms = consts.value(u'muon mass')\n",
    "print(\"mk\", mk, \"ms\", ms)"
   ]
  },
  {
   "cell_type": "markdown",
   "id": "6532ef34-4ad4-4682-8470-edf050873e74",
   "metadata": {},
   "source": [
    "Reduzierte Masse $\\mu$"
   ]
  },
  {
   "cell_type": "code",
   "execution_count": 174,
   "id": "73dd9476-30e9-439c-9747-6ca20b6d96f6",
   "metadata": {},
   "outputs": [
    {
     "data": {
      "text/plain": [
       "1.69289546986631e-28"
      ]
     },
     "execution_count": 174,
     "metadata": {},
     "output_type": "execute_result"
    }
   ],
   "source": [
    "mu = (mk*ms)/(mk+ms)\n",
    "mu"
   ]
  },
  {
   "cell_type": "markdown",
   "id": "53353247-7294-41e3-a14e-789c3a7c9936",
   "metadata": {},
   "source": [
    "Von Niveau $n_1$ zu Niveau $n_2$"
   ]
  },
  {
   "cell_type": "code",
   "execution_count": 175,
   "id": "00979553-c773-4850-bd30-3de6fa6c9ec2",
   "metadata": {},
   "outputs": [],
   "source": [
    "n1 = 2\n",
    "n2 = 1"
   ]
  },
  {
   "cell_type": "markdown",
   "id": "07d5df16-0f69-4730-846b-326704d8d15a",
   "metadata": {},
   "source": [
    "Vielfachheit Ladung $z$"
   ]
  },
  {
   "cell_type": "code",
   "execution_count": 176,
   "id": "9f7c5f4c-feee-4580-abdd-dd61cd94d036",
   "metadata": {},
   "outputs": [],
   "source": [
    "z = 1"
   ]
  },
  {
   "cell_type": "markdown",
   "id": "85e2a758-1451-47b8-84b9-c9adcda912fb",
   "metadata": {},
   "source": [
    "Rydberg-Energie $R_y$"
   ]
  },
  {
   "cell_type": "code",
   "execution_count": 177,
   "id": "1e492930-2f53-47ee-b25e-6fc4cccf0c15",
   "metadata": {},
   "outputs": [
    {
     "data": {
      "text/latex": [
       "$\\displaystyle R_y = -4.051093e-16\\ J = -2528.49\\ eV$"
      ],
      "text/plain": [
       "<IPython.core.display.Math object>"
      ]
     },
     "metadata": {},
     "output_type": "display_data"
    }
   ],
   "source": [
    "Ry = (-(mu * consts.elementary_charge**4)/(8 * consts.Planck**2 * consts.epsilon_0**2))\n",
    "display(Math(r\"R_y = {:.6e}\\ J = {:.6}\\ eV\".format(Ry, Ry / consts.elementary_charge)))"
   ]
  },
  {
   "cell_type": "markdown",
   "id": "6b7545c9-181a-418a-a704-0ae93ec4047b",
   "metadata": {},
   "source": [
    "Energiedifferenz zwischen Niveaus"
   ]
  },
  {
   "cell_type": "code",
   "execution_count": 178,
   "id": "a3c7c805-79c6-4a73-a58e-20f0601426da",
   "metadata": {},
   "outputs": [
    {
     "data": {
      "text/latex": [
       "$\\displaystyle \\Delta E = 3.038320e-16\\ J = 1896.37\\ eV$"
      ],
      "text/plain": [
       "<IPython.core.display.Math object>"
      ]
     },
     "metadata": {},
     "output_type": "display_data"
    }
   ],
   "source": [
    "dE = Ry * ( (z**2/n1**2) - (z**2/n2**2))\n",
    "display(Math(r\"\\Delta E = {:.6e}\\ J = {:.6}\\ eV\".format(dE, dE / consts.elementary_charge)))"
   ]
  },
  {
   "cell_type": "markdown",
   "id": "7269d64f-b4d5-4929-8544-60a2745593d8",
   "metadata": {},
   "source": [
    "Wellenlänge $\\lambda$ (m)"
   ]
  },
  {
   "cell_type": "code",
   "execution_count": 179,
   "id": "edfca241-b651-4650-994c-9d35891833c9",
   "metadata": {},
   "outputs": [
    {
     "data": {
      "text/latex": [
       "$\\displaystyle \\lambda = 6.537975e-10\\ m = 0.654\\ nm$"
      ],
      "text/plain": [
       "<IPython.core.display.Math object>"
      ]
     },
     "metadata": {},
     "output_type": "display_data"
    }
   ],
   "source": [
    "l = (consts.speed_of_light / dE) * consts.Planck\n",
    "display(Math(r\"\\lambda = {:.6e}\\ m = {}\\ nm\".format(l, round((l/(10**(-9))), 3))))"
   ]
  },
  {
   "cell_type": "markdown",
   "id": "8e3951bd-2ad6-4208-8f6d-7f2b90c95998",
   "metadata": {},
   "source": [
    "### Wellenlänge zu Schalenmasse"
   ]
  },
  {
   "cell_type": "markdown",
   "id": "4bf4fa44-d717-4d8e-a089-37603587882b",
   "metadata": {},
   "source": [
    "Masse Kern $m_k$"
   ]
  },
  {
   "cell_type": "code",
   "execution_count": 72,
   "id": "deb34f9d-8056-4a03-9ac5-b96ab233cbea",
   "metadata": {},
   "outputs": [
    {
     "name": "stdout",
     "output_type": "stream",
     "text": [
      "mk 1.67262192369e-27 ms -1.1068108291872813e-37\n"
     ]
    }
   ],
   "source": [
    "mk = consts.proton_mass\n",
    "print(\"mk\", mk, \"ms\", ms)"
   ]
  },
  {
   "cell_type": "markdown",
   "id": "0c06b093-a76e-4a81-9973-14d5ad4aa8ec",
   "metadata": {},
   "source": [
    "Von Niveau $n_1$ zu Niveau $n_2$"
   ]
  },
  {
   "cell_type": "code",
   "execution_count": 73,
   "id": "21df55f4-f562-43b5-b819-ab80fa20acdc",
   "metadata": {},
   "outputs": [],
   "source": [
    "n1 = 2\n",
    "n2 = 1"
   ]
  },
  {
   "cell_type": "markdown",
   "id": "1179a71a-cd24-402f-9b53-a21e3e73d6f4",
   "metadata": {},
   "source": [
    "Vielfachheit Ladung $z$"
   ]
  },
  {
   "cell_type": "code",
   "execution_count": 74,
   "id": "a0028aea-d4b1-43b4-97f5-f7c2dcec9897",
   "metadata": {},
   "outputs": [
    {
     "data": {
      "text/plain": [
       "-0.75"
      ]
     },
     "execution_count": 74,
     "metadata": {},
     "output_type": "execute_result"
    }
   ],
   "source": [
    "z = 1\n",
    "dn =  (z**2/n1**2) - (z**2/n2**2)\n",
    "dn"
   ]
  },
  {
   "cell_type": "markdown",
   "id": "a05f91b1-0ac2-42f1-a28b-6f7d24cbc89b",
   "metadata": {},
   "source": [
    "Wellenlänge $\\lambda$"
   ]
  },
  {
   "cell_type": "code",
   "execution_count": 75,
   "id": "43f6ec27-9e8e-42f9-93e5-5fe4fd63b951",
   "metadata": {},
   "outputs": [],
   "source": [
    "l = 0.65 * 10**(-9)"
   ]
  },
  {
   "cell_type": "markdown",
   "id": "74efee6e-0649-4ab7-b2de-f1c9fa104eb8",
   "metadata": {},
   "source": [
    "Energiedifferenz aus Wellenlänge"
   ]
  },
  {
   "cell_type": "code",
   "execution_count": 76,
   "id": "d90d4f63-f025-4e90-9566-f09c58229746",
   "metadata": {},
   "outputs": [
    {
     "data": {
      "text/plain": [
       "3.05607054945989e-16"
      ]
     },
     "execution_count": 76,
     "metadata": {},
     "output_type": "execute_result"
    }
   ],
   "source": [
    "dE = (consts.speed_of_light / l) * consts.Planck\n",
    "dE"
   ]
  },
  {
   "cell_type": "code",
   "execution_count": 80,
   "id": "0626c16a-afd3-4df8-acb1-b6695dcc4d50",
   "metadata": {},
   "outputs": [],
   "source": [
    "ms = (- dE * mk)/(dE + (((mk * consts.elementary_charge**4)/(8 * consts.Planck**2 * consts.epsilon_0**2)) * dn))"
   ]
  },
  {
   "cell_type": "code",
   "execution_count": 81,
   "id": "7360222e-df78-4a32-919b-a82e9d4bf0b8",
   "metadata": {},
   "outputs": [
    {
     "data": {
      "text/latex": [
       "$\\displaystyle m_s = 1.895783e-28\\ kg$"
      ],
      "text/plain": [
       "<IPython.core.display.Math object>"
      ]
     },
     "metadata": {},
     "output_type": "display_data"
    }
   ],
   "source": [
    "display(Math(r\"m_s = {:.6e}\\ kg\".format(ms)))"
   ]
  },
  {
   "cell_type": "markdown",
   "id": "f155b6b4-3da1-4a0b-baca-8fc8083e2621",
   "metadata": {},
   "source": [
    "### Bohr'scher Radius"
   ]
  },
  {
   "cell_type": "markdown",
   "id": "74e58117-14f1-468d-afeb-9cf45ecda818",
   "metadata": {},
   "source": [
    "Masse Kern $m_k$ und Masse Schale $m_s$"
   ]
  },
  {
   "cell_type": "code",
   "execution_count": 115,
   "id": "fba1d6d5-b385-4e36-a416-449dbe70c4fd",
   "metadata": {},
   "outputs": [
    {
     "name": "stdout",
     "output_type": "stream",
     "text": [
      "mk = 9.1093837015e-31 ms = 9.1093837015e-31\n"
     ]
    }
   ],
   "source": [
    "mk = consts.electron_mass\n",
    "ms = consts.electron_mass #consts.value(u'muon mass')\n",
    "print(\"mk =\", mk, \"ms =\", ms)"
   ]
  },
  {
   "cell_type": "markdown",
   "id": "c8c6f184-3009-4d1c-ab76-1d3333d33524",
   "metadata": {},
   "source": [
    "Reduzierte Masse $\\mu$"
   ]
  },
  {
   "cell_type": "code",
   "execution_count": 116,
   "id": "3564f7e7-7acd-4d5f-8c97-9cf3f8e5f56a",
   "metadata": {},
   "outputs": [
    {
     "data": {
      "text/plain": [
       "4.55469185075e-31"
      ]
     },
     "execution_count": 116,
     "metadata": {},
     "output_type": "execute_result"
    }
   ],
   "source": [
    "mu = (mk*ms)/(mk+ms)\n",
    "mu"
   ]
  },
  {
   "cell_type": "code",
   "execution_count": 117,
   "id": "f0bded13-789f-4a04-b3ea-70886ea2a6ad",
   "metadata": {},
   "outputs": [
    {
     "data": {
      "text/latex": [
       "$\\displaystyle a'_B = 1.058354e-10\\ m = 105.835\\ pm = 0.106\\ nm$"
      ],
      "text/plain": [
       "<IPython.core.display.Math object>"
      ]
     },
     "metadata": {},
     "output_type": "display_data"
    }
   ],
   "source": [
    "aB = (4 * np.pi * consts.epsilon_0 * consts.hbar**2) / (mu * consts.elementary_charge**2)\n",
    "display(Math(r\"a'_B = {:.6e}\\ m = {}\\ pm = {}\\ nm\".format(aB, round((aB/(10**(-12))), 3), round((aB/(10**(-9))), 3))))"
   ]
  },
  {
   "cell_type": "code",
   "execution_count": null,
   "id": "f0fb1a66-55d6-4829-be26-759f8eb9d9a7",
   "metadata": {},
   "outputs": [],
   "source": []
  }
 ],
 "metadata": {
  "kernelspec": {
   "display_name": "Python 3",
   "language": "python",
   "name": "python3"
  },
  "language_info": {
   "codemirror_mode": {
    "name": "ipython",
    "version": 3
   },
   "file_extension": ".py",
   "mimetype": "text/x-python",
   "name": "python",
   "nbconvert_exporter": "python",
   "pygments_lexer": "ipython3",
   "version": "3.7.3"
  }
 },
 "nbformat": 4,
 "nbformat_minor": 5
}
