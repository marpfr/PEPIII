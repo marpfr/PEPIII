{
 "cells": [
  {
   "cell_type": "code",
   "execution_count": 74,
   "id": "7cc10cc7-58c6-4942-b95e-b9a0ba6780ff",
   "metadata": {},
   "outputs": [],
   "source": [
    "from IPython.display import display, Math"
   ]
  },
  {
   "cell_type": "code",
   "execution_count": 86,
   "id": "e582cc2b-3201-46bc-94f3-81d8d953118a",
   "metadata": {},
   "outputs": [],
   "source": [
    "def L(k,m,debug = False):\n",
    "    if debug:\n",
    "        print(f\"calling L({k},{m})\")\n",
    "        \n",
    "    if m == 0:\n",
    "        return (\"1\", \"1\")\n",
    "    if m == 1:\n",
    "        return (f\"1 + {k} - x\", f\"{1 + k} - x\")\n",
    "    \n",
    "    L1 = L(k,m-1)\n",
    "    L2 = L(k, m-2)\n",
    "    \n",
    "    su = f\"\\\\frac{{(2 \\\\cdot {m}) - 1 + {k} - x}}{{{m}}}\\\\qty(\" + L1[0] + f\")- \\\\frac{{{m} - 1 + {k}}}{{ {m} }}\\\\qty(\" + L2[0] + \")\"\n",
    "    sa = f\"\\\\frac{{{2 * m - 1 + k} - x}}{{{m}}}\\\\qty(\" + L1[1] + f\")- \\\\frac{{{m - 1 + k}}}{{{m}}}\\\\qty(\" + L2[1] + \")\"\n",
    "    \n",
    "    return (su, sa)"
   ]
  },
  {
   "cell_type": "code",
   "execution_count": 87,
   "id": "bc8c4f86-63e6-4f17-a05d-6d10a163f29a",
   "metadata": {},
   "outputs": [
    {
     "name": "stdout",
     "output_type": "stream",
     "text": [
      "\\frac{(2 \\cdot 2) - 1 + 3 - x}{2}\\qty(1 + 3 - x)- \\frac{2 - 1 + 3}{ 2 }\\qty(1)\n"
     ]
    },
    {
     "data": {
      "text/latex": [
       "$\\displaystyle \\frac{(2 \\cdot 2) - 1 + 3 - x}{2}\\qty(1 + 3 - x)- \\frac{2 - 1 + 3}{ 2 }\\qty(1)$"
      ],
      "text/plain": [
       "<IPython.core.display.Math object>"
      ]
     },
     "metadata": {},
     "output_type": "display_data"
    },
    {
     "name": "stdout",
     "output_type": "stream",
     "text": [
      "\\frac{6 - x}{2}\\qty(4 - x)- \\frac{4}{2}\\qty(1)\n"
     ]
    },
    {
     "data": {
      "text/latex": [
       "$\\displaystyle \\frac{6 - x}{2}\\qty(4 - x)- \\frac{4}{2}\\qty(1)$"
      ],
      "text/plain": [
       "<IPython.core.display.Math object>"
      ]
     },
     "metadata": {},
     "output_type": "display_data"
    }
   ],
   "source": [
    "n = 4\n",
    "l = 1\n",
    "\n",
    "lag = L(2 * l + 1, n - l - 1)\n",
    "\n",
    "print(lag[0])\n",
    "display(Math(lag[0]))\n",
    "print(lag[1])\n",
    "display(Math(lag[1]))"
   ]
  },
  {
   "cell_type": "code",
   "execution_count": null,
   "id": "f90fc016-6260-44ff-850c-c2f0e4cd915a",
   "metadata": {},
   "outputs": [],
   "source": []
  }
 ],
 "metadata": {
  "kernelspec": {
   "display_name": "Python 3",
   "language": "python",
   "name": "python3"
  },
  "language_info": {
   "codemirror_mode": {
    "name": "ipython",
    "version": 3
   },
   "file_extension": ".py",
   "mimetype": "text/x-python",
   "name": "python",
   "nbconvert_exporter": "python",
   "pygments_lexer": "ipython3",
   "version": "3.7.3"
  }
 },
 "nbformat": 4,
 "nbformat_minor": 5
}
